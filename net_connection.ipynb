{
 "cells": [
  {
   "cell_type": "code",
   "execution_count": 1,
   "id": "287f4d00-f3d4-47cf-9546-295861b2c89b",
   "metadata": {},
   "outputs": [],
   "source": [
    "from keras.layers import Input\n",
    "from keras.layers import Dense\n",
    "from keras.layers import concatenate\n",
    "from keras.models import Model\n",
    "from keras.utils import plot_model"
   ]
  },
  {
   "cell_type": "code",
   "execution_count": null,
   "id": "3d7acb7b-61f4-4097-a54c-12bbd7403781",
   "metadata": {},
   "outputs": [],
   "source": [
    
   ]
  },
  {
   "cell_type": "code",
   "execution_count": 2,
   "id": "619d08e0-b3ad-44e6-9e52-42514db87b7f",
   "metadata": {},
   "outputs": [
    {
     "name": "stdout",
     "output_type": "stream",
     "text": [
      "You must install pydot (`pip install pydot`) for `plot_model` to work.\n"
     ]
    }
   ],
   "source": [
    "A1 = Input(shape=(20,) , name = 'A1')\n",
    "A2 = Dense( 10 , activation= 'relu' , name = 'A2')(A1)\n",
    "A3 = Dense( 10 , activation= 'relu' , name = 'A3')(A2)\n",
    "\n",
    "\n",
    "B1 = Dense(30 , activation= 'relu' , name = 'B1')(A2)\n",
    "B2 = Dense(20 , activation= 'relu' , name = 'B2')(B1)\n",
    "\n",
    "M1 = Model( A1, [A3 ,B2])\n",
    "plot_model (M1)"
   ]
  },
  {
   "cell_type": "code",
   "execution_count": null,
   "id": "23377514-b944-41ee-b46e-689bfd8f2c79",
   "metadata": {},
   "outputs": [],
   "source": [
    "A1 = Input(shape=(20,) , name = 'A1')\n",
    "A2 = Dense( 10 , activation= 'relu' , name = 'A2')(A1)\n",
    "A3 = Dense( 10 , activation= 'relu' , name = 'A3')(A2)\n",
    "\n",
    "B1 = Input(shape=(50,) , name = 'B1')\n",
    "B2 = Dense(25 , activation= 'relu' , name = 'B2')(B1)\n",
    "B3 = Dense(50 , activation= 'relu' , name = 'B3')(B2)\n",
    "\n",
    "merged = concatenate([A3,B3] , name= \"concat\")\n",
    "out = Dense (1 , activation= 'sigmoid' , name ='out')(merged)\n",
    "M1 = Model( [A1,B1], out)\n",
    "plot_model (M1)"
   ]
  }
 ],
 "metadata": {
  "kernelspec": {
   "display_name": "Python (base)",
   "language": "python",
   "name": "base"
  },
  "language_info": {
   "codemirror_mode": {
    "name": "ipython",
    "version": 3
   },
   "file_extension": ".py",
   "mimetype": "text/x-python",
   "name": "python",
   "nbconvert_exporter": "python",
   "pygments_lexer": "ipython3",
   "version": "3.12.3"
  }
 },
 "nbformat": 4,
 "nbformat_minor": 5
}
