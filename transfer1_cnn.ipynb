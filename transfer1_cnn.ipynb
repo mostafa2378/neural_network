{
  "cells": [
    {
      "cell_type": "code",
      "execution_count": null,
      "metadata": {
        "id": "-TTkswLTT_xU"
      },
      "outputs": [],
      "source": [
        "from keras.applications import ResNet50\n",
        "from keras.applications import VGG16"
      ]
    },
    {
      "cell_type": "code",
      "execution_count": null,
      "metadata": {
        "id": "VH-my7HdUNQw"
      },
      "outputs": [],
      "source": [
        "from keras.preprocessing.image import img_to_array\n",
        "from keras.preprocessing.image import load_img\n",
        "from keras.applications import imagenet_utils\n",
        "import numpy as np\n",
        "import pandas as pd\n",
        "import matplotlib.pyplot as plt\n"
      ]
    },
    {
      "cell_type": "code",
      "execution_count": null,
      "metadata": {
        "colab": {
          "base_uri": "https://localhost:8080/"
        },
        "id": "giylkpo1UNfZ",
        "outputId": "29a14e35-aca3-4500-97d7-c378c06478b9"
      },
      "outputs": [
        {
          "name": "stdout",
          "output_type": "stream",
          "text": [
            "Downloading data from https://storage.googleapis.com/tensorflow/keras-applications/vgg16/vgg16_weights_tf_dim_ordering_tf_kernels.h5\n",
            "\u001b[1m553467096/553467096\u001b[0m \u001b[32m━━━━━━━━━━━━━━━━━━━━\u001b[0m\u001b[37m\u001b[0m \u001b[1m2s\u001b[0m 0us/step\n"
          ]
        }
      ],
      "source": [
        "#model = ResNet50(weights='imagenet')\n",
        "model = VGG16(weights='imagenet')"
      ]
    },
    {
      "cell_type": "code",
      "execution_count": null,
      "metadata": {
        "id": "Z27WXlIfUNjQ"
      },
      "outputs": [],
      "source": [
        "img  = load_img(\"download.jpg\")"
      ]
    },
    {
      "cell_type": "code",
      "execution_count": null,
      "metadata": {
        "colab": {
          "base_uri": "https://localhost:8080/",
          "height": 138
        },
        "id": "W01czR9qUNl4",
        "outputId": "85733b0a-c785-4f96-df7e-1884416c8a0d"
      },
      "outputs": [
        {
          "data": {
            "text/html": [
              "<div style=\"max-width:800px; border: 1px solid var(--colab-border-color);\"><style>\n",
              "      pre.function-repr-contents {\n",
              "        overflow-x: auto;\n",
              "        padding: 8px 12px;\n",
              "        max-height: 500px;\n",
              "      }\n",
              "\n",
              "      pre.function-repr-contents.function-repr-contents-collapsed {\n",
              "        cursor: pointer;\n",
              "        max-height: 100px;\n",
              "      }\n",
              "    </style>\n",
              "    <pre style=\"white-space: initial; background:\n",
              "         var(--colab-secondary-surface-color); padding: 8px 12px;\n",
              "         border-bottom: 1px solid var(--colab-border-color);\"><b>PIL.JpegImagePlugin.JpegImageFile</b><br/>def __init__(fp: StrOrBytesPath | IO[bytes], filename: str | bytes | None=None) -&gt; None</pre><pre class=\"function-repr-contents function-repr-contents-collapsed\" style=\"\"><a class=\"filepath\" style=\"display:none\" href=\"#\">/usr/local/lib/python3.12/dist-packages/PIL/JpegImagePlugin.py</a>Base class for image file format handlers.</pre>\n",
              "      <script>\n",
              "      if (google.colab.kernel.accessAllowed && google.colab.files && google.colab.files.view) {\n",
              "        for (const element of document.querySelectorAll('.filepath')) {\n",
              "          element.style.display = 'block'\n",
              "          element.onclick = (event) => {\n",
              "            event.preventDefault();\n",
              "            event.stopPropagation();\n",
              "            google.colab.files.view(element.textContent, 336);\n",
              "          };\n",
              "        }\n",
              "      }\n",
              "      for (const element of document.querySelectorAll('.function-repr-contents')) {\n",
              "        element.onclick = (event) => {\n",
              "          event.preventDefault();\n",
              "          event.stopPropagation();\n",
              "          element.classList.toggle('function-repr-contents-collapsed');\n",
              "        };\n",
              "      }\n",
              "      </script>\n",
              "      </div>"
            ],
            "text/plain": [
              "PIL.JpegImagePlugin.JpegImageFile"
            ]
          },
          "execution_count": 10,
          "metadata": {},
          "output_type": "execute_result"
        }
      ],
      "source": [
        "type(img)"
      ]
    },
    {
      "cell_type": "code",
      "execution_count": null,
      "metadata": {
        "colab": {
          "base_uri": "https://localhost:8080/",
          "height": 211
        },
        "id": "zKP6Mad6UNop",
        "outputId": "46ec479d-9fe6-46c2-ba98-3478655a1724"
      },
      "outputs": [
        {
          "data": {
            "image/jpeg": "[encoded data removed]",
            "image/png": "[encoded data removed]",
            "text/plain": [
              "<PIL.JpegImagePlugin.JpegImageFile image mode=RGB size=259x194>"
            ]
          },
          "execution_count": 13,
          "metadata": {},
          "output_type": "execute_result"
        }
      ],
      "source": [
        "img"
      ]
    },
    {
      "cell_type": "code",
      "execution_count": null,
      "metadata": {
        "id": "avshZLZuUNrA"
      },
      "outputs": [],
      "source": [
        "im = img_to_array(img)"
      ]
    },
    {
      "cell_type": "code",
      "execution_count": null,
      "metadata": {
        "colab": {
          "base_uri": "https://localhost:8080/"
        },
        "id": "XTKnMQj-UNt4",
        "outputId": "d64cfb01-3b26-4829-f362-9e9fa1c3cca0"
      },
      "outputs": [
        {
          "data": {
            "text/plain": [
              "numpy.ndarray"
            ]
          },
          "execution_count": 15,
          "metadata": {},
          "output_type": "execute_result"
        }
      ],
      "source": [
        "type(im)"
      ]
    },
    {
      "cell_type": "code",
      "execution_count": null,
      "metadata": {
        "colab": {
          "base_uri": "https://localhost:8080/"
        },
        "id": "WL54D2klUNwg",
        "outputId": "62cc7ad5-a156-4bd6-f64d-e0c8c789dbd0"
      },
      "outputs": [
        {
          "data": {
            "text/plain": [
              "(194, 259, 3)"
            ]
          },
          "execution_count": 16,
          "metadata": {},
          "output_type": "execute_result"
        }
      ],
      "source": [
        "im.shape"
      ]
    },
    {
      "cell_type": "code",
      "execution_count": null,
      "metadata": {
        "colab": {
          "base_uri": "https://localhost:8080/",
          "height": 865
        },
        "id": "3Yx5xKWAUNy4",
        "outputId": "3642e2e6-ec6e-4503-a318-8929cbf1fb9d"
      },
      "outputs": [
        {
          "data": {
            "text/html": [
              "<pre style=\"white-space:pre;overflow-x:auto;line-height:normal;font-family:Menlo,'DejaVu Sans Mono',consolas,'Courier New',monospace\"><span style=\"font-weight: bold\">Model: \"vgg16\"</span>\n",
              "</pre>\n"
            ],
            "text/plain": [
              "\u001b[1mModel: \"vgg16\"\u001b[0m\n"
            ]
          },
          "metadata": {},
          "output_type": "display_data"
        },
        {
          "data": {
            "text/html": [
              "<pre style=\"white-space:pre;overflow-x:auto;line-height:normal;font-family:Menlo,'DejaVu Sans Mono',consolas,'Courier New',monospace\">┏━━━━━━━━━━━━━━━━━━━━━━━━━━━━━━━━━┳━━━━━━━━━━━━━━━━━━━━━━━━┳━━━━━━━━━━━━━━━┓\n",
              "┃<span style=\"font-weight: bold\"> Layer (type)                    </span>┃<span style=\"font-weight: bold\"> Output Shape           </span>┃<span style=\"font-weight: bold\">       Param # </span>┃\n",
              "┡━━━━━━━━━━━━━━━━━━━━━━━━━━━━━━━━━╇━━━━━━━━━━━━━━━━━━━━━━━━╇━━━━━━━━━━━━━━━┩\n",
              "│ input_layer (<span style=\"color: #0087ff; text-decoration-color: #0087ff\">InputLayer</span>)        │ (<span style=\"color: #00d7ff; text-decoration-color: #00d7ff\">None</span>, <span style=\"color: #00af00; text-decoration-color: #00af00\">224</span>, <span style=\"color: #00af00; text-decoration-color: #00af00\">224</span>, <span style=\"color: #00af00; text-decoration-color: #00af00\">3</span>)    │             <span style=\"color: #00af00; text-decoration-color: #00af00\">0</span> │\n",
              "├─────────────────────────────────┼────────────────────────┼───────────────┤\n",
              "│ block1_conv1 (<span style=\"color: #0087ff; text-decoration-color: #0087ff\">Conv2D</span>)           │ (<span style=\"color: #00d7ff; text-decoration-color: #00d7ff\">None</span>, <span style=\"color: #00af00; text-decoration-color: #00af00\">224</span>, <span style=\"color: #00af00; text-decoration-color: #00af00\">224</span>, <span style=\"color: #00af00; text-decoration-color: #00af00\">64</span>)   │         <span style=\"color: #00af00; text-decoration-color: #00af00\">1,792</span> │\n",
              "├─────────────────────────────────┼────────────────────────┼───────────────┤\n",
              "│ block1_conv2 (<span style=\"color: #0087ff; text-decoration-color: #0087ff\">Conv2D</span>)           │ (<span style=\"color: #00d7ff; text-decoration-color: #00d7ff\">None</span>, <span style=\"color: #00af00; text-decoration-color: #00af00\">224</span>, <span style=\"color: #00af00; text-decoration-color: #00af00\">224</span>, <span style=\"color: #00af00; text-decoration-color: #00af00\">64</span>)   │        <span style=\"color: #00af00; text-decoration-color: #00af00\">36,928</span> │\n",
              "├─────────────────────────────────┼────────────────────────┼───────────────┤\n",
              "│ block1_pool (<span style=\"color: #0087ff; text-decoration-color: #0087ff\">MaxPooling2D</span>)      │ (<span style=\"color: #00d7ff; text-decoration-color: #00d7ff\">None</span>, <span style=\"color: #00af00; text-decoration-color: #00af00\">112</span>, <span style=\"color: #00af00; text-decoration-color: #00af00\">112</span>, <span style=\"color: #00af00; text-decoration-color: #00af00\">64</span>)   │             <span style=\"color: #00af00; text-decoration-color: #00af00\">0</span> │\n",
              "├─────────────────────────────────┼────────────────────────┼───────────────┤\n",
              "│ block2_conv1 (<span style=\"color: #0087ff; text-decoration-color: #0087ff\">Conv2D</span>)           │ (<span style=\"color: #00d7ff; text-decoration-color: #00d7ff\">None</span>, <span style=\"color: #00af00; text-decoration-color: #00af00\">112</span>, <span style=\"color: #00af00; text-decoration-color: #00af00\">112</span>, <span style=\"color: #00af00; text-decoration-color: #00af00\">128</span>)  │        <span style=\"color: #00af00; text-decoration-color: #00af00\">73,856</span> │\n",
              "├─────────────────────────────────┼────────────────────────┼───────────────┤\n",
              "│ block2_conv2 (<span style=\"color: #0087ff; text-decoration-color: #0087ff\">Conv2D</span>)           │ (<span style=\"color: #00d7ff; text-decoration-color: #00d7ff\">None</span>, <span style=\"color: #00af00; text-decoration-color: #00af00\">112</span>, <span style=\"color: #00af00; text-decoration-color: #00af00\">112</span>, <span style=\"color: #00af00; text-decoration-color: #00af00\">128</span>)  │       <span style=\"color: #00af00; text-decoration-color: #00af00\">147,584</span> │\n",
              "├─────────────────────────────────┼────────────────────────┼───────────────┤\n",
              "│ block2_pool (<span style=\"color: #0087ff; text-decoration-color: #0087ff\">MaxPooling2D</span>)      │ (<span style=\"color: #00d7ff; text-decoration-color: #00d7ff\">None</span>, <span style=\"color: #00af00; text-decoration-color: #00af00\">56</span>, <span style=\"color: #00af00; text-decoration-color: #00af00\">56</span>, <span style=\"color: #00af00; text-decoration-color: #00af00\">128</span>)    │             <span style=\"color: #00af00; text-decoration-color: #00af00\">0</span> │\n",
              "├─────────────────────────────────┼────────────────────────┼───────────────┤\n",
              "│ block3_conv1 (<span style=\"color: #0087ff; text-decoration-color: #0087ff\">Conv2D</span>)           │ (<span style=\"color: #00d7ff; text-decoration-color: #00d7ff\">None</span>, <span style=\"color: #00af00; text-decoration-color: #00af00\">56</span>, <span style=\"color: #00af00; text-decoration-color: #00af00\">56</span>, <span style=\"color: #00af00; text-decoration-color: #00af00\">256</span>)    │       <span style=\"color: #00af00; text-decoration-color: #00af00\">295,168</span> │\n",
              "├─────────────────────────────────┼────────────────────────┼───────────────┤\n",
              "│ block3_conv2 (<span style=\"color: #0087ff; text-decoration-color: #0087ff\">Conv2D</span>)           │ (<span style=\"color: #00d7ff; text-decoration-color: #00d7ff\">None</span>, <span style=\"color: #00af00; text-decoration-color: #00af00\">56</span>, <span style=\"color: #00af00; text-decoration-color: #00af00\">56</span>, <span style=\"color: #00af00; text-decoration-color: #00af00\">256</span>)    │       <span style=\"color: #00af00; text-decoration-color: #00af00\">590,080</span> │\n",
              "├─────────────────────────────────┼────────────────────────┼───────────────┤\n",
              "│ block3_conv3 (<span style=\"color: #0087ff; text-decoration-color: #0087ff\">Conv2D</span>)           │ (<span style=\"color: #00d7ff; text-decoration-color: #00d7ff\">None</span>, <span style=\"color: #00af00; text-decoration-color: #00af00\">56</span>, <span style=\"color: #00af00; text-decoration-color: #00af00\">56</span>, <span style=\"color: #00af00; text-decoration-color: #00af00\">256</span>)    │       <span style=\"color: #00af00; text-decoration-color: #00af00\">590,080</span> │\n",
              "├─────────────────────────────────┼────────────────────────┼───────────────┤\n",
              "│ block3_pool (<span style=\"color: #0087ff; text-decoration-color: #0087ff\">MaxPooling2D</span>)      │ (<span style=\"color: #00d7ff; text-decoration-color: #00d7ff\">None</span>, <span style=\"color: #00af00; text-decoration-color: #00af00\">28</span>, <span style=\"color: #00af00; text-decoration-color: #00af00\">28</span>, <span style=\"color: #00af00; text-decoration-color: #00af00\">256</span>)    │             <span style=\"color: #00af00; text-decoration-color: #00af00\">0</span> │\n",
              "├─────────────────────────────────┼────────────────────────┼───────────────┤\n",
              "│ block4_conv1 (<span style=\"color: #0087ff; text-decoration-color: #0087ff\">Conv2D</span>)           │ (<span style=\"color: #00d7ff; text-decoration-color: #00d7ff\">None</span>, <span style=\"color: #00af00; text-decoration-color: #00af00\">28</span>, <span style=\"color: #00af00; text-decoration-color: #00af00\">28</span>, <span style=\"color: #00af00; text-decoration-color: #00af00\">512</span>)    │     <span style=\"color: #00af00; text-decoration-color: #00af00\">1,180,160</span> │\n",
              "├─────────────────────────────────┼────────────────────────┼───────────────┤\n",
              "│ block4_conv2 (<span style=\"color: #0087ff; text-decoration-color: #0087ff\">Conv2D</span>)           │ (<span style=\"color: #00d7ff; text-decoration-color: #00d7ff\">None</span>, <span style=\"color: #00af00; text-decoration-color: #00af00\">28</span>, <span style=\"color: #00af00; text-decoration-color: #00af00\">28</span>, <span style=\"color: #00af00; text-decoration-color: #00af00\">512</span>)    │     <span style=\"color: #00af00; text-decoration-color: #00af00\">2,359,808</span> │\n",
              "├─────────────────────────────────┼────────────────────────┼───────────────┤\n",
              "│ block4_conv3 (<span style=\"color: #0087ff; text-decoration-color: #0087ff\">Conv2D</span>)           │ (<span style=\"color: #00d7ff; text-decoration-color: #00d7ff\">None</span>, <span style=\"color: #00af00; text-decoration-color: #00af00\">28</span>, <span style=\"color: #00af00; text-decoration-color: #00af00\">28</span>, <span style=\"color: #00af00; text-decoration-color: #00af00\">512</span>)    │     <span style=\"color: #00af00; text-decoration-color: #00af00\">2,359,808</span> │\n",
              "├─────────────────────────────────┼────────────────────────┼───────────────┤\n",
              "│ block4_pool (<span style=\"color: #0087ff; text-decoration-color: #0087ff\">MaxPooling2D</span>)      │ (<span style=\"color: #00d7ff; text-decoration-color: #00d7ff\">None</span>, <span style=\"color: #00af00; text-decoration-color: #00af00\">14</span>, <span style=\"color: #00af00; text-decoration-color: #00af00\">14</span>, <span style=\"color: #00af00; text-decoration-color: #00af00\">512</span>)    │             <span style=\"color: #00af00; text-decoration-color: #00af00\">0</span> │\n",
              "├─────────────────────────────────┼────────────────────────┼───────────────┤\n",
              "│ block5_conv1 (<span style=\"color: #0087ff; text-decoration-color: #0087ff\">Conv2D</span>)           │ (<span style=\"color: #00d7ff; text-decoration-color: #00d7ff\">None</span>, <span style=\"color: #00af00; text-decoration-color: #00af00\">14</span>, <span style=\"color: #00af00; text-decoration-color: #00af00\">14</span>, <span style=\"color: #00af00; text-decoration-color: #00af00\">512</span>)    │     <span style=\"color: #00af00; text-decoration-color: #00af00\">2,359,808</span> │\n",
              "├─────────────────────────────────┼────────────────────────┼───────────────┤\n",
              "│ block5_conv2 (<span style=\"color: #0087ff; text-decoration-color: #0087ff\">Conv2D</span>)           │ (<span style=\"color: #00d7ff; text-decoration-color: #00d7ff\">None</span>, <span style=\"color: #00af00; text-decoration-color: #00af00\">14</span>, <span style=\"color: #00af00; text-decoration-color: #00af00\">14</span>, <span style=\"color: #00af00; text-decoration-color: #00af00\">512</span>)    │     <span style=\"color: #00af00; text-decoration-color: #00af00\">2,359,808</span> │\n",
              "├─────────────────────────────────┼────────────────────────┼───────────────┤\n",
              "│ block5_conv3 (<span style=\"color: #0087ff; text-decoration-color: #0087ff\">Conv2D</span>)           │ (<span style=\"color: #00d7ff; text-decoration-color: #00d7ff\">None</span>, <span style=\"color: #00af00; text-decoration-color: #00af00\">14</span>, <span style=\"color: #00af00; text-decoration-color: #00af00\">14</span>, <span style=\"color: #00af00; text-decoration-color: #00af00\">512</span>)    │     <span style=\"color: #00af00; text-decoration-color: #00af00\">2,359,808</span> │\n",
              "├─────────────────────────────────┼────────────────────────┼───────────────┤\n",
              "│ block5_pool (<span style=\"color: #0087ff; text-decoration-color: #0087ff\">MaxPooling2D</span>)      │ (<span style=\"color: #00d7ff; text-decoration-color: #00d7ff\">None</span>, <span style=\"color: #00af00; text-decoration-color: #00af00\">7</span>, <span style=\"color: #00af00; text-decoration-color: #00af00\">7</span>, <span style=\"color: #00af00; text-decoration-color: #00af00\">512</span>)      │             <span style=\"color: #00af00; text-decoration-color: #00af00\">0</span> │\n",
              "├─────────────────────────────────┼────────────────────────┼───────────────┤\n",
              "│ flatten (<span style=\"color: #0087ff; text-decoration-color: #0087ff\">Flatten</span>)               │ (<span style=\"color: #00d7ff; text-decoration-color: #00d7ff\">None</span>, <span style=\"color: #00af00; text-decoration-color: #00af00\">25088</span>)          │             <span style=\"color: #00af00; text-decoration-color: #00af00\">0</span> │\n",
              "├─────────────────────────────────┼────────────────────────┼───────────────┤\n",
              "│ fc1 (<span style=\"color: #0087ff; text-decoration-color: #0087ff\">Dense</span>)                     │ (<span style=\"color: #00d7ff; text-decoration-color: #00d7ff\">None</span>, <span style=\"color: #00af00; text-decoration-color: #00af00\">4096</span>)           │   <span style=\"color: #00af00; text-decoration-color: #00af00\">102,764,544</span> │\n",
              "├─────────────────────────────────┼────────────────────────┼───────────────┤\n",
              "│ fc2 (<span style=\"color: #0087ff; text-decoration-color: #0087ff\">Dense</span>)                     │ (<span style=\"color: #00d7ff; text-decoration-color: #00d7ff\">None</span>, <span style=\"color: #00af00; text-decoration-color: #00af00\">4096</span>)           │    <span style=\"color: #00af00; text-decoration-color: #00af00\">16,781,312</span> │\n",
              "├─────────────────────────────────┼────────────────────────┼───────────────┤\n",
              "│ predictions (<span style=\"color: #0087ff; text-decoration-color: #0087ff\">Dense</span>)             │ (<span style=\"color: #00d7ff; text-decoration-color: #00d7ff\">None</span>, <span style=\"color: #00af00; text-decoration-color: #00af00\">1000</span>)           │     <span style=\"color: #00af00; text-decoration-color: #00af00\">4,097,000</span> │\n",
              "└─────────────────────────────────┴────────────────────────┴───────────────┘\n",
              "</pre>\n"
            ],
            "text/plain": [
              "┏━━━━━━━━━━━━━━━━━━━━━━━━━━━━━━━━━┳━━━━━━━━━━━━━━━━━━━━━━━━┳━━━━━━━━━━━━━━━┓\n",
              "┃\u001b[1m \u001b[0m\u001b[1mLayer (type)                   \u001b[0m\u001b[1m \u001b[0m┃\u001b[1m \u001b[0m\u001b[1mOutput Shape          \u001b[0m\u001b[1m \u001b[0m┃\u001b[1m \u001b[0m\u001b[1m      Param #\u001b[0m\u001b[1m \u001b[0m┃\n",
              "┡━━━━━━━━━━━━━━━━━━━━━━━━━━━━━━━━━╇━━━━━━━━━━━━━━━━━━━━━━━━╇━━━━━━━━━━━━━━━┩\n",
              "│ input_layer (\u001b[38;5;33mInputLayer\u001b[0m)        │ (\u001b[38;5;45mNone\u001b[0m, \u001b[38;5;34m224\u001b[0m, \u001b[38;5;34m224\u001b[0m, \u001b[38;5;34m3\u001b[0m)    │             \u001b[38;5;34m0\u001b[0m │\n",
              "├─────────────────────────────────┼────────────────────────┼───────────────┤\n",
              "│ block1_conv1 (\u001b[38;5;33mConv2D\u001b[0m)           │ (\u001b[38;5;45mNone\u001b[0m, \u001b[38;5;34m224\u001b[0m, \u001b[38;5;34m224\u001b[0m, \u001b[38;5;34m64\u001b[0m)   │         \u001b[38;5;34m1,792\u001b[0m │\n",
              "├─────────────────────────────────┼────────────────────────┼───────────────┤\n",
              "│ block1_conv2 (\u001b[38;5;33mConv2D\u001b[0m)           │ (\u001b[38;5;45mNone\u001b[0m, \u001b[38;5;34m224\u001b[0m, \u001b[38;5;34m224\u001b[0m, \u001b[38;5;34m64\u001b[0m)   │        \u001b[38;5;34m36,928\u001b[0m │\n",
              "├─────────────────────────────────┼────────────────────────┼───────────────┤\n",
              "│ block1_pool (\u001b[38;5;33mMaxPooling2D\u001b[0m)      │ (\u001b[38;5;45mNone\u001b[0m, \u001b[38;5;34m112\u001b[0m, \u001b[38;5;34m112\u001b[0m, \u001b[38;5;34m64\u001b[0m)   │             \u001b[38;5;34m0\u001b[0m │\n",
              "├─────────────────────────────────┼────────────────────────┼───────────────┤\n",
              "│ block2_conv1 (\u001b[38;5;33mConv2D\u001b[0m)           │ (\u001b[38;5;45mNone\u001b[0m, \u001b[38;5;34m112\u001b[0m, \u001b[38;5;34m112\u001b[0m, \u001b[38;5;34m128\u001b[0m)  │        \u001b[38;5;34m73,856\u001b[0m │\n",
              "├─────────────────────────────────┼────────────────────────┼───────────────┤\n",
              "│ block2_conv2 (\u001b[38;5;33mConv2D\u001b[0m)           │ (\u001b[38;5;45mNone\u001b[0m, \u001b[38;5;34m112\u001b[0m, \u001b[38;5;34m112\u001b[0m, \u001b[38;5;34m128\u001b[0m)  │       \u001b[38;5;34m147,584\u001b[0m │\n",
              "├─────────────────────────────────┼────────────────────────┼───────────────┤\n",
              "│ block2_pool (\u001b[38;5;33mMaxPooling2D\u001b[0m)      │ (\u001b[38;5;45mNone\u001b[0m, \u001b[38;5;34m56\u001b[0m, \u001b[38;5;34m56\u001b[0m, \u001b[38;5;34m128\u001b[0m)    │             \u001b[38;5;34m0\u001b[0m │\n",
              "├─────────────────────────────────┼────────────────────────┼───────────────┤\n",
              "│ block3_conv1 (\u001b[38;5;33mConv2D\u001b[0m)           │ (\u001b[38;5;45mNone\u001b[0m, \u001b[38;5;34m56\u001b[0m, \u001b[38;5;34m56\u001b[0m, \u001b[38;5;34m256\u001b[0m)    │       \u001b[38;5;34m295,168\u001b[0m │\n",
              "├─────────────────────────────────┼────────────────────────┼───────────────┤\n",
              "│ block3_conv2 (\u001b[38;5;33mConv2D\u001b[0m)           │ (\u001b[38;5;45mNone\u001b[0m, \u001b[38;5;34m56\u001b[0m, \u001b[38;5;34m56\u001b[0m, \u001b[38;5;34m256\u001b[0m)    │       \u001b[38;5;34m590,080\u001b[0m │\n",
              "├─────────────────────────────────┼────────────────────────┼───────────────┤\n",
              "│ block3_conv3 (\u001b[38;5;33mConv2D\u001b[0m)           │ (\u001b[38;5;45mNone\u001b[0m, \u001b[38;5;34m56\u001b[0m, \u001b[38;5;34m56\u001b[0m, \u001b[38;5;34m256\u001b[0m)    │       \u001b[38;5;34m590,080\u001b[0m │\n",
              "├─────────────────────────────────┼────────────────────────┼───────────────┤\n",
              "│ block3_pool (\u001b[38;5;33mMaxPooling2D\u001b[0m)      │ (\u001b[38;5;45mNone\u001b[0m, \u001b[38;5;34m28\u001b[0m, \u001b[38;5;34m28\u001b[0m, \u001b[38;5;34m256\u001b[0m)    │             \u001b[38;5;34m0\u001b[0m │\n",
              "├─────────────────────────────────┼────────────────────────┼───────────────┤\n",
              "│ block4_conv1 (\u001b[38;5;33mConv2D\u001b[0m)           │ (\u001b[38;5;45mNone\u001b[0m, \u001b[38;5;34m28\u001b[0m, \u001b[38;5;34m28\u001b[0m, \u001b[38;5;34m512\u001b[0m)    │     \u001b[38;5;34m1,180,160\u001b[0m │\n",
              "├─────────────────────────────────┼────────────────────────┼───────────────┤\n",
              "│ block4_conv2 (\u001b[38;5;33mConv2D\u001b[0m)           │ (\u001b[38;5;45mNone\u001b[0m, \u001b[38;5;34m28\u001b[0m, \u001b[38;5;34m28\u001b[0m, \u001b[38;5;34m512\u001b[0m)    │     \u001b[38;5;34m2,359,808\u001b[0m │\n",
              "├─────────────────────────────────┼────────────────────────┼───────────────┤\n",
              "│ block4_conv3 (\u001b[38;5;33mConv2D\u001b[0m)           │ (\u001b[38;5;45mNone\u001b[0m, \u001b[38;5;34m28\u001b[0m, \u001b[38;5;34m28\u001b[0m, \u001b[38;5;34m512\u001b[0m)    │     \u001b[38;5;34m2,359,808\u001b[0m │\n",
              "├─────────────────────────────────┼────────────────────────┼───────────────┤\n",
              "│ block4_pool (\u001b[38;5;33mMaxPooling2D\u001b[0m)      │ (\u001b[38;5;45mNone\u001b[0m, \u001b[38;5;34m14\u001b[0m, \u001b[38;5;34m14\u001b[0m, \u001b[38;5;34m512\u001b[0m)    │             \u001b[38;5;34m0\u001b[0m │\n",
              "├─────────────────────────────────┼────────────────────────┼───────────────┤\n",
              "│ block5_conv1 (\u001b[38;5;33mConv2D\u001b[0m)           │ (\u001b[38;5;45mNone\u001b[0m, \u001b[38;5;34m14\u001b[0m, \u001b[38;5;34m14\u001b[0m, \u001b[38;5;34m512\u001b[0m)    │     \u001b[38;5;34m2,359,808\u001b[0m │\n",
              "├─────────────────────────────────┼────────────────────────┼───────────────┤\n",
              "│ block5_conv2 (\u001b[38;5;33mConv2D\u001b[0m)           │ (\u001b[38;5;45mNone\u001b[0m, \u001b[38;5;34m14\u001b[0m, \u001b[38;5;34m14\u001b[0m, \u001b[38;5;34m512\u001b[0m)    │     \u001b[38;5;34m2,359,808\u001b[0m │\n",
              "├─────────────────────────────────┼────────────────────────┼───────────────┤\n",
              "│ block5_conv3 (\u001b[38;5;33mConv2D\u001b[0m)           │ (\u001b[38;5;45mNone\u001b[0m, \u001b[38;5;34m14\u001b[0m, \u001b[38;5;34m14\u001b[0m, \u001b[38;5;34m512\u001b[0m)    │     \u001b[38;5;34m2,359,808\u001b[0m │\n",
              "├─────────────────────────────────┼────────────────────────┼───────────────┤\n",
              "│ block5_pool (\u001b[38;5;33mMaxPooling2D\u001b[0m)      │ (\u001b[38;5;45mNone\u001b[0m, \u001b[38;5;34m7\u001b[0m, \u001b[38;5;34m7\u001b[0m, \u001b[38;5;34m512\u001b[0m)      │             \u001b[38;5;34m0\u001b[0m │\n",
              "├─────────────────────────────────┼────────────────────────┼───────────────┤\n",
              "│ flatten (\u001b[38;5;33mFlatten\u001b[0m)               │ (\u001b[38;5;45mNone\u001b[0m, \u001b[38;5;34m25088\u001b[0m)          │             \u001b[38;5;34m0\u001b[0m │\n",
              "├─────────────────────────────────┼────────────────────────┼───────────────┤\n",
              "│ fc1 (\u001b[38;5;33mDense\u001b[0m)                     │ (\u001b[38;5;45mNone\u001b[0m, \u001b[38;5;34m4096\u001b[0m)           │   \u001b[38;5;34m102,764,544\u001b[0m │\n",
              "├─────────────────────────────────┼────────────────────────┼───────────────┤\n",
              "│ fc2 (\u001b[38;5;33mDense\u001b[0m)                     │ (\u001b[38;5;45mNone\u001b[0m, \u001b[38;5;34m4096\u001b[0m)           │    \u001b[38;5;34m16,781,312\u001b[0m │\n",
              "├─────────────────────────────────┼────────────────────────┼───────────────┤\n",
              "│ predictions (\u001b[38;5;33mDense\u001b[0m)             │ (\u001b[38;5;45mNone\u001b[0m, \u001b[38;5;34m1000\u001b[0m)           │     \u001b[38;5;34m4,097,000\u001b[0m │\n",
              "└─────────────────────────────────┴────────────────────────┴───────────────┘\n"
            ]
          },
          "metadata": {},
          "output_type": "display_data"
        },
        {
          "data": {
            "text/html": [
              "<pre style=\"white-space:pre;overflow-x:auto;line-height:normal;font-family:Menlo,'DejaVu Sans Mono',consolas,'Courier New',monospace\"><span style=\"font-weight: bold\"> Total params: </span><span style=\"color: #00af00; text-decoration-color: #00af00\">138,357,544</span> (527.79 MB)\n",
              "</pre>\n"
            ],
            "text/plain": [
              "\u001b[1m Total params: \u001b[0m\u001b[38;5;34m138,357,544\u001b[0m (527.79 MB)\n"
            ]
          },
          "metadata": {},
          "output_type": "display_data"
        },
        {
          "data": {
            "text/html": [
              "<pre style=\"white-space:pre;overflow-x:auto;line-height:normal;font-family:Menlo,'DejaVu Sans Mono',consolas,'Courier New',monospace\"><span style=\"font-weight: bold\"> Trainable params: </span><span style=\"color: #00af00; text-decoration-color: #00af00\">138,357,544</span> (527.79 MB)\n",
              "</pre>\n"
            ],
            "text/plain": [
              "\u001b[1m Trainable params: \u001b[0m\u001b[38;5;34m138,357,544\u001b[0m (527.79 MB)\n"
            ]
          },
          "metadata": {},
          "output_type": "display_data"
        },
        {
          "data": {
            "text/html": [
              "<pre style=\"white-space:pre;overflow-x:auto;line-height:normal;font-family:Menlo,'DejaVu Sans Mono',consolas,'Courier New',monospace\"><span style=\"font-weight: bold\"> Non-trainable params: </span><span style=\"color: #00af00; text-decoration-color: #00af00\">0</span> (0.00 B)\n",
              "</pre>\n"
            ],
            "text/plain": [
              "\u001b[1m Non-trainable params: \u001b[0m\u001b[38;5;34m0\u001b[0m (0.00 B)\n"
            ]
          },
          "metadata": {},
          "output_type": "display_data"
        }
      ],
      "source": [
        "model.summary()"
      ]
    },
    {
      "cell_type": "code",
      "execution_count": null,
      "metadata": {
        "id": "EKvUN-wMhw8b"
      },
      "outputs": [],
      "source": [
        "img2 = img.resize((224,224))"
      ]
    },
    {
      "cell_type": "code",
      "execution_count": null,
      "metadata": {
        "id": "M6qliFoZW35Y"
      },
      "outputs": [],
      "source": [
        "img = img_to_array(img2)"
      ]
    },
    {
      "cell_type": "code",
      "execution_count": null,
      "metadata": {
        "colab": {
          "base_uri": "https://localhost:8080/"
        },
        "id": "cyDOPDLYW4A6",
        "outputId": "cd5885a1-7d44-4856-b017-bedcf8783f56"
      },
      "outputs": [
        {
          "data": {
            "text/plain": [
              "array([[[139., 137., 150.],\n",
              "        [129., 126., 136.],\n",
              "        [ 97.,  92.,  97.],\n",
              "        ...,\n",
              "        [144., 145., 149.],\n",
              "        [156., 157., 161.],\n",
              "        [156., 157., 161.]],\n",
              "\n",
              "       [[126., 124., 137.],\n",
              "        [131., 130., 139.],\n",
              "        [115., 110., 115.],\n",
              "        ...,\n",
              "        [138., 139., 143.],\n",
              "        [161., 162., 166.],\n",
              "        [161., 162., 167.]],\n",
              "\n",
              "       [[134., 134., 145.],\n",
              "        [137., 136., 143.],\n",
              "        [133., 129., 133.],\n",
              "        ...,\n",
              "        [138., 139., 142.],\n",
              "        [163., 164., 167.],\n",
              "        [167., 168., 171.]],\n",
              "\n",
              "       ...,\n",
              "\n",
              "       [[213., 215., 217.],\n",
              "        [213., 215., 217.],\n",
              "        [214., 216., 218.],\n",
              "        ...,\n",
              "        [250., 251., 246.],\n",
              "        [251., 252., 246.],\n",
              "        [251., 252., 246.]],\n",
              "\n",
              "       [[212., 213., 215.],\n",
              "        [212., 213., 215.],\n",
              "        [213., 214., 216.],\n",
              "        ...,\n",
              "        [250., 251., 246.],\n",
              "        [250., 251., 246.],\n",
              "        [250., 251., 246.]],\n",
              "\n",
              "       [[212., 213., 215.],\n",
              "        [212., 213., 215.],\n",
              "        [213., 214., 216.],\n",
              "        ...,\n",
              "        [250., 251., 246.],\n",
              "        [250., 251., 246.],\n",
              "        [250., 251., 246.]]], dtype=float32)"
            ]
          },
          "execution_count": 44,
          "metadata": {},
          "output_type": "execute_result"
        }
      ],
      "source": [
        "img"
      ]
    },
    {
      "cell_type": "code",
      "execution_count": null,
      "metadata": {
        "colab": {
          "base_uri": "https://localhost:8080/"
        },
        "id": "gtaM8Gg_W4Df",
        "outputId": "7bbc1869-0091-47da-be3f-a30bf8f20a68"
      },
      "outputs": [
        {
          "name": "stdout",
          "output_type": "stream",
          "text": [
            "\u001b[1m1/1\u001b[0m \u001b[32m━━━━━━━━━━━━━━━━━━━━\u001b[0m\u001b[37m\u001b[0m \u001b[1m1s\u001b[0m 1s/step\n"
          ]
        }
      ],
      "source": [
        "im = img_to_array(img2)\n",
        "im = np.expand_dims(im, axis=0)\n",
        "im = imagenet_utils.preprocess_input(im)\n",
        "p = model.predict(im)"
      ]
    },
    {
      "cell_type": "code",
      "execution_count": null,
      "metadata": {
        "colab": {
          "base_uri": "https://localhost:8080/"
        },
        "id": "j69E4RO9W4GK",
        "outputId": "63cba3ab-a184-4fd8-da63-1504b71a786d"
      },
      "outputs": [
        {
          "data": {
            "text/plain": [
              "array([[1.24696387e-08, 9.24634502e-09, 2.35261144e-10, 7.60649932e-10,\n",
              "        2.17173002e-10, 4.76393369e-09, 1.41239020e-10, 1.44806511e-09,\n",
              "        6.76469325e-09, 4.99878916e-10, 7.24234894e-07, 4.69471217e-09,\n",
              "        7.75310705e-10, 2.29179364e-09, 9.12177278e-11, 1.96880041e-08,\n",
              "        2.12642592e-09, 4.53412197e-09, 2.83010593e-09, 1.67868404e-08,\n",
              "        7.74795623e-08, 3.32691630e-09, 2.58719268e-09, 1.96703898e-09,\n",
              "        1.68220882e-09, 3.90765864e-09, 1.36938603e-08, 4.05424139e-09,\n",
              "        2.90472291e-09, 1.90175098e-09, 3.00600256e-09, 1.23621668e-09,\n",
              "        1.26574273e-09, 2.89822033e-09, 2.09108841e-09, 1.22116905e-09,\n",
              "        2.80533019e-09, 5.07821563e-10, 4.78686868e-09, 2.75465650e-09,\n",
              "        1.76861814e-09, 2.97067571e-09, 3.62018904e-09, 3.44393492e-09,\n",
              "        1.89984406e-09, 4.95483166e-09, 2.18072060e-10, 2.96338665e-09,\n",
              "        1.57735591e-09, 3.59010532e-09, 1.91678007e-09, 8.78653736e-08,\n",
              "        3.64320685e-09, 1.18340571e-09, 1.35806799e-09, 1.96945571e-10,\n",
              "        5.27138111e-10, 2.35596570e-10, 7.10979808e-09, 2.87942581e-09,\n",
              "        7.87268206e-09, 4.18189733e-10, 3.48346774e-09, 1.18300445e-08,\n",
              "        2.70458833e-09, 3.47524520e-09, 3.18714442e-08, 8.62508176e-10,\n",
              "        7.55969953e-09, 2.47080217e-10, 3.51521101e-09, 3.12818171e-09,\n",
              "        7.48297480e-10, 4.94340249e-08, 3.77605558e-10, 9.10462206e-10,\n",
              "        3.94675936e-09, 2.88779556e-10, 2.94396500e-07, 9.61610347e-10,\n",
              "        4.96131463e-07, 3.21745155e-08, 1.40703904e-07, 4.68907615e-08,\n",
              "        1.66811198e-09, 8.60608529e-10, 8.45066722e-07, 6.48334053e-10,\n",
              "        1.86862459e-09, 2.47282000e-10, 4.09745460e-10, 4.08620444e-08,\n",
              "        1.13754979e-08, 9.65267200e-10, 3.29363004e-09, 9.43815959e-09,\n",
              "        1.15327164e-10, 8.00570443e-10, 4.45773507e-09, 2.43883971e-08,\n",
              "        1.31968081e-09, 6.83507917e-09, 1.54786903e-08, 7.87998715e-08,\n",
              "        4.23697060e-08, 2.75029910e-09, 3.94459176e-09, 3.84899179e-09,\n",
              "        3.04268388e-09, 2.59484301e-09, 2.28049113e-09, 2.33048851e-08,\n",
              "        1.12372023e-08, 7.17239823e-09, 1.06742108e-08, 1.02082709e-09,\n",
              "        2.00324806e-08, 1.48806500e-09, 1.85811511e-09, 1.14799690e-08,\n",
              "        9.85658577e-09, 1.24633370e-08, 2.00952037e-08, 2.76170065e-09,\n",
              "        3.43079165e-08, 4.19891588e-09, 2.40263223e-08, 3.65590863e-10,\n",
              "        1.50491036e-10, 1.91762473e-09, 9.89510140e-10, 1.07862586e-09,\n",
              "        1.27755462e-09, 9.74245928e-09, 2.16504432e-08, 9.70001679e-09,\n",
              "        2.67503264e-09, 1.65372649e-09, 7.02284952e-10, 1.65071459e-08,\n",
              "        4.25856861e-09, 6.73163691e-10, 1.76764348e-09, 1.80496018e-09,\n",
              "        5.76084014e-10, 3.27233408e-07, 1.22600230e-09, 8.52740989e-10,\n",
              "        7.43604112e-09, 5.20178833e-09, 6.77758578e-08, 1.74823342e-07,\n",
              "        2.17192166e-07, 3.55860164e-09, 7.95133126e-10, 3.64093533e-09,\n",
              "        1.76305832e-08, 4.67047450e-08, 1.70001542e-07, 1.51692262e-07,\n",
              "        1.02136903e-08, 6.38250031e-09, 6.03670429e-08, 2.01197579e-07,\n",
              "        2.16646132e-08, 1.79606996e-08, 3.78342015e-08, 3.68123892e-06,\n",
              "        1.48116374e-06, 9.77755917e-07, 2.10085000e-06, 4.13688781e-08,\n",
              "        1.05566613e-07, 7.44038971e-07, 2.36038272e-06, 1.60891759e-07,\n",
              "        6.93894648e-08, 1.17339880e-06, 9.64178781e-08, 2.17301235e-08,\n",
              "        1.29775808e-08, 4.08170990e-08, 1.88913191e-07, 6.13902458e-08,\n",
              "        3.95839521e-07, 2.88043793e-08, 3.48942777e-08, 1.95429894e-08,\n",
              "        1.16870325e-07, 1.31236277e-07, 2.04097383e-09, 1.15800312e-08,\n",
              "        3.29996404e-08, 1.27758170e-07, 1.74927806e-08, 1.60274439e-07,\n",
              "        2.00431716e-09, 8.48771222e-08, 3.89544894e-08, 2.98042035e-09,\n",
              "        2.78544036e-07, 7.92668331e-09, 2.37569182e-08, 1.82616411e-08,\n",
              "        2.09379825e-09, 3.22890628e-07, 5.50622758e-07, 5.74652177e-07,\n",
              "        1.55519194e-06, 9.21276580e-07, 8.74473969e-08, 2.14100382e-07,\n",
              "        4.80381921e-08, 5.73824195e-07, 2.42491183e-07, 3.40865569e-07,\n",
              "        5.06003381e-08, 3.81680287e-09, 2.46778082e-08, 2.05713135e-08,\n",
              "        2.84709046e-07, 4.97831785e-08, 8.36813570e-07, 4.24206718e-07,\n",
              "        6.25030498e-06, 4.41043221e-06, 5.68193514e-07, 4.21396544e-06,\n",
              "        2.98426137e-08, 5.03294757e-08, 1.15929324e-05, 1.25070901e-05,\n",
              "        7.91110381e-07, 1.13706122e-07, 3.33610046e-08, 1.00941884e-06,\n",
              "        8.37084571e-08, 2.15871090e-08, 2.80112545e-07, 7.07081028e-07,\n",
              "        7.44477575e-07, 1.32346656e-06, 4.13789003e-08, 7.22740126e-08,\n",
              "        8.34999184e-07, 5.24589705e-09, 4.89396186e-08, 1.05076670e-05,\n",
              "        3.13579699e-06, 1.28291475e-07, 9.54436132e-07, 4.38438263e-09,\n",
              "        1.03410905e-07, 5.32754314e-07, 4.02640632e-09, 5.45637749e-06,\n",
              "        2.30061204e-07, 2.37310942e-07, 1.21890949e-07, 6.98987606e-08,\n",
              "        4.37693785e-07, 2.69591567e-07, 2.49296960e-07, 1.41506334e-07,\n",
              "        2.35085892e-07, 6.60583410e-09, 1.55395696e-08, 4.90487025e-07,\n",
              "        2.04086277e-07, 6.00314292e-04, 5.13377134e-04, 2.77180178e-03,\n",
              "        6.43004838e-04, 1.82835229e-05, 1.03211706e-03, 2.92802724e-07,\n",
              "        1.17936445e-07, 9.68957126e-01, 2.06959667e-03, 7.29527650e-03,\n",
              "        1.58703066e-02, 7.86516665e-08, 1.03785155e-07, 1.40270791e-08,\n",
              "        6.40781707e-07, 3.09449706e-06, 1.35072071e-06, 3.16198907e-06,\n",
              "        2.35598154e-08, 2.58700652e-08, 9.78518067e-09, 7.48273621e-09,\n",
              "        1.76653643e-07, 3.66277355e-08, 1.30360058e-06, 2.79743446e-08,\n",
              "        8.86586520e-07, 1.98161620e-09, 2.29766741e-07, 1.51905724e-08,\n",
              "        2.01115166e-10, 4.15970230e-10, 1.18923671e-09, 1.49473278e-09,\n",
              "        5.62168312e-10, 9.83276585e-11, 1.64465785e-09, 1.38551670e-09,\n",
              "        1.70151157e-10, 2.66568261e-08, 5.50558377e-10, 2.99611713e-09,\n",
              "        1.37315948e-09, 7.08817116e-10, 2.34264413e-10, 8.14248502e-10,\n",
              "        1.36958320e-10, 3.82931598e-09, 1.00374642e-08, 2.23115482e-09,\n",
              "        2.96315333e-10, 1.29255251e-09, 9.49595957e-09, 5.18348564e-09,\n",
              "        4.03203720e-10, 5.03636377e-09, 1.09699183e-09, 9.06319908e-09,\n",
              "        1.33470224e-09, 2.60218314e-09, 6.29892369e-08, 3.83951692e-06,\n",
              "        6.41186970e-09, 1.88221119e-08, 1.24964723e-08, 3.47123432e-07,\n",
              "        4.97268999e-08, 1.88968343e-07, 1.44716494e-09, 5.74851953e-08,\n",
              "        4.50385951e-09, 8.82615223e-06, 6.67409404e-06, 1.33254838e-08,\n",
              "        8.97261820e-10, 2.56045389e-08, 1.71745640e-09, 2.71626988e-07,\n",
              "        3.08392316e-08, 6.51910625e-07, 1.22216179e-05, 1.72465615e-08,\n",
              "        3.36914709e-08, 2.71294933e-08, 7.54713236e-10, 1.26337554e-07,\n",
              "        2.12352734e-06, 5.19045614e-07, 2.12188851e-07, 7.37647781e-07,\n",
              "        5.39635252e-08, 5.50330022e-08, 1.00283593e-07, 1.63062150e-08,\n",
              "        8.77359907e-10, 7.28779304e-09, 2.21785215e-10, 7.54175000e-10,\n",
              "        3.05574654e-09, 1.67201086e-09, 3.25676751e-07, 1.24447990e-06,\n",
              "        2.48309284e-08, 5.77290109e-08, 1.36654921e-09, 1.68540426e-09,\n",
              "        9.18376060e-08, 6.42643938e-09, 4.68697323e-07, 8.16689383e-09,\n",
              "        2.14209251e-07, 3.09773611e-08, 7.09755383e-08, 8.03839129e-09,\n",
              "        1.30237353e-07, 3.52744833e-09, 1.14296028e-09, 1.10973865e-07,\n",
              "        2.16088081e-09, 1.64406810e-09, 2.42179410e-09, 6.71744127e-09,\n",
              "        3.21333449e-09, 3.53451796e-10, 2.27301005e-08, 9.20255339e-09,\n",
              "        1.37571821e-09, 1.34222244e-10, 9.05286290e-10, 3.14068238e-09,\n",
              "        8.00593813e-09, 3.80069913e-08, 3.78903664e-09, 8.95898911e-10,\n",
              "        7.85865506e-09, 1.56564506e-09, 8.21053270e-09, 6.45585096e-09,\n",
              "        3.76503273e-09, 1.82845401e-08, 1.12165592e-08, 2.01175610e-08,\n",
              "        2.17100848e-07, 3.38221113e-08, 4.08598488e-09, 2.15005591e-09,\n",
              "        5.79574699e-09, 1.68491354e-08, 8.48837587e-08, 7.08170145e-09,\n",
              "        6.80567913e-09, 3.23038343e-08, 3.24841065e-09, 2.35248243e-09,\n",
              "        2.78388113e-09, 1.61440312e-07, 8.95156873e-08, 2.43070346e-08,\n",
              "        1.17044385e-06, 5.71442005e-09, 5.19507593e-09, 8.06177525e-09,\n",
              "        6.98515379e-09, 8.39416892e-09, 2.96489198e-08, 3.20275262e-07,\n",
              "        2.82480066e-08, 7.84137644e-09, 1.90005878e-08, 4.32809877e-09,\n",
              "        9.29224555e-08, 4.64573757e-09, 3.89124422e-09, 1.00225561e-09,\n",
              "        5.91869886e-09, 5.94475793e-08, 5.93318106e-08, 2.95842240e-09,\n",
              "        1.79145010e-09, 2.05326933e-09, 1.55191469e-06, 6.78701682e-08,\n",
              "        6.99071592e-08, 4.04958111e-09, 5.71838887e-09, 1.50689949e-08,\n",
              "        2.20904770e-08, 5.47500845e-09, 1.26335009e-09, 1.86712565e-08,\n",
              "        1.79766935e-09, 2.16236096e-09, 1.02956035e-08, 2.82582590e-07,\n",
              "        8.54434745e-09, 6.94440132e-08, 6.60997159e-08, 5.76034609e-10,\n",
              "        1.05398170e-08, 8.21398274e-08, 3.24571715e-07, 7.50172369e-10,\n",
              "        2.70645266e-08, 3.36807249e-09, 1.02995514e-08, 5.31970423e-09,\n",
              "        1.64757141e-09, 4.88328311e-09, 7.30471594e-09, 4.46018653e-08,\n",
              "        1.80106472e-08, 6.50963772e-09, 2.77590804e-08, 8.73538308e-09,\n",
              "        6.78430778e-09, 8.16215484e-10, 2.51070897e-09, 1.42797429e-09,\n",
              "        1.09604494e-08, 9.95460336e-09, 4.74378670e-09, 1.50727892e-08,\n",
              "        1.31236388e-09, 5.26327888e-08, 4.70967372e-08, 9.11819864e-09,\n",
              "        3.42244322e-09, 1.69321890e-08, 2.74118661e-09, 8.35798275e-09,\n",
              "        1.27672639e-09, 1.40083316e-07, 1.07615215e-08, 1.46718138e-09,\n",
              "        1.50213584e-08, 3.49287035e-08, 6.93697100e-09, 6.60753496e-09,\n",
              "        7.09557346e-09, 9.13253695e-10, 1.40871304e-09, 4.10474721e-09,\n",
              "        5.45420464e-09, 6.68737421e-09, 8.52154525e-09, 3.84248722e-08,\n",
              "        6.40031095e-09, 2.07788875e-09, 9.26647203e-09, 1.02547597e-08,\n",
              "        2.47428389e-09, 2.60672861e-09, 2.55599417e-08, 1.29667681e-08,\n",
              "        6.82786094e-09, 4.30574421e-09, 1.39595002e-08, 5.99507244e-09,\n",
              "        7.55712937e-10, 4.42665682e-09, 6.27303498e-09, 5.75310155e-09,\n",
              "        1.34797054e-08, 1.60524527e-09, 3.11165778e-08, 3.21957372e-09,\n",
              "        4.42999082e-10, 2.19496869e-05, 8.92907170e-09, 1.97770802e-07,\n",
              "        4.27429825e-09, 6.03195893e-09, 3.31385763e-09, 5.22696064e-09,\n",
              "        2.11955453e-09, 4.54786786e-09, 1.22276838e-08, 4.48841542e-09,\n",
              "        6.44736042e-09, 1.06980993e-08, 2.72049250e-09, 3.35370238e-08,\n",
              "        1.01398330e-08, 2.48826044e-08, 9.87413706e-10, 5.32200772e-09,\n",
              "        2.28993748e-08, 4.48899762e-09, 2.42277469e-08, 9.92639126e-09,\n",
              "        3.86581833e-09, 5.50245804e-09, 5.59614932e-09, 7.55013119e-09,\n",
              "        2.49343906e-08, 8.42048298e-09, 2.06599431e-08, 1.44813770e-08,\n",
              "        3.85790884e-08, 1.52537503e-08, 7.14168324e-09, 1.34456055e-08,\n",
              "        3.27851417e-08, 1.29704969e-09, 1.30472477e-08, 7.60338459e-09,\n",
              "        6.16148510e-09, 8.42361558e-09, 1.20365456e-07, 1.55190705e-08,\n",
              "        6.83940904e-09, 2.82595236e-09, 2.11078377e-09, 4.07292822e-09,\n",
              "        6.14082429e-09, 1.38952148e-08, 5.22434940e-09, 3.51145846e-09,\n",
              "        6.20894536e-09, 1.30783917e-08, 2.07663771e-08, 3.71891962e-09,\n",
              "        2.70386113e-09, 1.24005011e-08, 1.12411254e-08, 3.75384446e-10,\n",
              "        1.00124726e-08, 3.26330230e-09, 5.30750888e-10, 1.99746308e-09,\n",
              "        1.36227403e-08, 2.08508357e-08, 1.32784441e-08, 1.21378747e-08,\n",
              "        1.05062181e-08, 5.20464649e-09, 7.04141634e-09, 2.37147124e-09,\n",
              "        5.14454035e-09, 6.60986732e-09, 4.33594245e-08, 5.37046407e-09,\n",
              "        1.23269261e-08, 1.82551207e-09, 2.18434759e-09, 2.73513345e-09,\n",
              "        6.38356812e-10, 9.62591216e-08, 3.62889963e-09, 4.99043695e-09,\n",
              "        1.68367347e-08, 2.73842726e-09, 2.20483400e-08, 1.28600943e-08,\n",
              "        2.76144263e-09, 2.46658449e-09, 2.46229770e-09, 3.26716538e-08,\n",
              "        1.07252263e-09, 1.06546034e-08, 6.31608810e-09, 2.33022170e-08,\n",
              "        1.70141812e-09, 2.40188913e-09, 1.72439873e-09, 5.44381118e-09,\n",
              "        4.22784048e-08, 1.54991646e-08, 9.15637060e-08, 2.22047873e-08,\n",
              "        5.28961364e-09, 7.77863374e-09, 3.15501403e-09, 6.67249278e-09,\n",
              "        1.50542867e-08, 1.61243197e-09, 3.98009874e-08, 2.32981741e-08,\n",
              "        5.35676570e-09, 1.81957127e-09, 1.59635105e-09, 7.06921466e-10,\n",
              "        2.16482565e-08, 2.43770035e-08, 8.07854192e-08, 2.48449972e-08,\n",
              "        6.42024702e-07, 7.10029857e-09, 3.41087798e-08, 8.86076812e-09,\n",
              "        1.90384242e-08, 2.29791131e-10, 4.41962067e-09, 6.08111206e-09,\n",
              "        1.19792922e-08, 1.39074112e-08, 2.58173571e-09, 7.22199633e-09,\n",
              "        3.32984285e-09, 3.16207460e-09, 2.08792006e-09, 2.66674025e-08,\n",
              "        1.08702091e-06, 9.08710351e-09, 1.04527507e-08, 7.40576880e-08,\n",
              "        5.11216911e-07, 7.49606421e-09, 9.51821377e-08, 1.22645838e-09,\n",
              "        3.04510692e-08, 3.60228896e-08, 1.13730636e-09, 2.39081075e-08,\n",
              "        8.80382789e-09, 2.50792193e-10, 3.01627723e-09, 8.94258279e-10,\n",
              "        2.61576805e-09, 2.18889884e-08, 5.23566168e-09, 1.27075140e-07,\n",
              "        1.93415932e-08, 3.69184394e-09, 4.99508157e-10, 7.99828648e-10,\n",
              "        2.39317401e-08, 3.32862382e-09, 5.80009329e-09, 1.84330808e-08,\n",
              "        4.48968400e-08, 2.47504968e-08, 7.27768112e-09, 5.68623051e-08,\n",
              "        3.01688310e-08, 9.51476054e-09, 6.25342833e-10, 5.78396353e-09,\n",
              "        2.08216235e-08, 1.21932098e-09, 2.46048071e-09, 2.18331886e-09,\n",
              "        1.67837577e-09, 6.55057741e-09, 1.49170045e-08, 7.56547003e-09,\n",
              "        5.01540898e-09, 6.83387968e-09, 6.28320107e-09, 1.79041955e-08,\n",
              "        1.93677185e-09, 3.99973317e-08, 1.29838384e-09, 1.14901768e-08,\n",
              "        3.70427744e-10, 8.93275143e-09, 2.79290262e-08, 1.76951307e-08,\n",
              "        2.52154791e-07, 1.20008119e-08, 5.06828250e-08, 3.03006011e-08,\n",
              "        2.16503526e-09, 2.45126337e-08, 4.41474279e-09, 2.86149682e-08,\n",
              "        4.58704363e-09, 5.54102264e-10, 1.52673429e-08, 8.61890754e-08,\n",
              "        3.53314489e-09, 9.75621472e-10, 8.06086842e-09, 6.60594779e-09,\n",
              "        1.86211810e-08, 1.90176083e-10, 6.63501964e-08, 3.90657062e-09,\n",
              "        4.58540805e-09, 9.96094762e-09, 2.56816222e-08, 2.92321412e-09,\n",
              "        5.77443959e-09, 1.18217898e-08, 1.47924151e-09, 5.69457415e-09,\n",
              "        9.52040580e-09, 3.91287394e-08, 1.72614048e-08, 4.70023132e-09,\n",
              "        2.90568885e-08, 2.92780644e-09, 1.88720080e-08, 4.02570173e-08,\n",
              "        5.46356738e-08, 1.98404138e-08, 1.04083648e-08, 7.32690264e-09,\n",
              "        6.46250342e-09, 2.23991933e-07, 3.72352593e-09, 1.87717308e-09,\n",
              "        1.34251488e-09, 7.38402983e-09, 2.11214490e-09, 1.50277781e-08,\n",
              "        1.11843228e-08, 4.81254041e-08, 6.67020217e-09, 5.09762934e-08,\n",
              "        5.62582647e-09, 4.16357837e-09, 2.07085886e-08, 3.77927112e-09,\n",
              "        2.22592771e-08, 2.84749202e-09, 1.93727812e-09, 1.08082574e-08,\n",
              "        2.22314842e-08, 1.49674779e-08, 6.82273171e-09, 1.22407284e-08,\n",
              "        1.07112955e-05, 1.56779393e-07, 3.95769142e-08, 7.42449492e-06,\n",
              "        2.07968401e-06, 5.14448395e-08, 3.52411278e-09, 8.00670605e-08,\n",
              "        2.17236495e-09, 1.98120431e-09, 5.12922452e-06, 2.92579580e-06,\n",
              "        9.98501015e-09, 1.16595132e-07, 9.74186420e-09, 2.32858675e-08,\n",
              "        8.02575251e-09, 1.95315764e-09, 5.82487125e-09, 5.78220245e-08,\n",
              "        3.57899510e-09, 1.19921859e-08, 9.61427382e-09, 1.18122279e-09,\n",
              "        8.29238234e-10, 2.17930918e-08, 9.85525084e-09, 2.00088324e-09,\n",
              "        3.39219569e-10, 3.97373290e-09, 4.18130952e-09, 2.39132760e-07,\n",
              "        1.17150414e-07, 1.45619783e-08, 4.92132068e-09, 1.27989681e-08,\n",
              "        1.50082635e-09, 3.87274790e-09, 3.13042143e-08, 1.42346916e-08,\n",
              "        1.18620903e-07, 2.24891994e-09, 8.76881945e-09, 2.86146262e-09,\n",
              "        1.39558338e-07, 1.49935637e-08, 2.76427379e-08, 1.75858716e-09,\n",
              "        3.08921999e-09, 2.52942218e-08, 1.25797371e-07, 1.08811460e-09,\n",
              "        2.05775148e-08, 1.66752989e-09, 1.24074804e-08, 1.65438263e-09,\n",
              "        9.82242909e-09, 3.18564752e-09, 2.42308773e-09, 8.89592826e-08,\n",
              "        1.07664341e-07, 1.59105067e-08, 6.37766906e-09, 8.40573566e-09,\n",
              "        1.31720199e-08, 8.68471250e-09, 5.91947780e-09, 1.44048840e-07,\n",
              "        3.49584761e-09, 5.93042024e-08, 7.59915508e-08, 1.20626076e-09,\n",
              "        4.52527482e-09, 3.95441457e-09, 6.30845509e-09, 1.75531092e-08,\n",
              "        2.14482654e-08, 6.14358919e-09, 6.57552635e-09, 1.13299559e-09,\n",
              "        1.66266840e-08, 2.96442693e-09, 3.31011774e-09, 1.05299511e-08,\n",
              "        1.06049761e-07, 9.95906135e-10, 1.12453069e-08, 2.91647151e-08,\n",
              "        4.52399807e-09, 1.70939174e-08, 3.39567374e-09, 2.53755470e-08,\n",
              "        1.47649037e-09, 6.95085145e-09, 6.82597268e-09, 4.98498576e-09,\n",
              "        1.46633372e-09, 1.05137357e-08, 5.49180523e-09, 5.35443689e-09,\n",
              "        1.86656308e-08, 6.36130482e-09, 2.71086353e-09, 5.57804380e-09,\n",
              "        1.88470430e-08, 1.01768798e-08, 5.54931745e-09, 1.72789942e-08,\n",
              "        2.58841171e-09, 9.01262176e-09, 9.97315208e-09, 5.12231457e-09,\n",
              "        2.01595061e-08, 4.49446302e-09, 1.40934887e-07, 3.54274721e-09,\n",
              "        2.73488177e-10, 1.63215474e-09, 8.52326831e-09, 4.97447150e-09,\n",
              "        5.66411593e-08, 9.00677932e-09, 8.93408103e-09, 2.77742174e-07,\n",
              "        1.32923887e-07, 3.63817265e-09, 2.58169619e-09, 2.34095321e-08,\n",
              "        1.52578439e-09, 5.79623638e-08, 2.50639176e-10, 1.42192320e-07,\n",
              "        2.66930877e-09, 3.43724942e-08, 4.26843272e-09, 1.10610863e-08,\n",
              "        4.06445366e-09, 9.77253478e-09, 9.06356235e-09, 2.26544863e-08,\n",
              "        9.83707160e-09, 2.04620876e-09, 9.95253480e-09, 2.29235320e-09,\n",
              "        1.02987849e-08, 8.07028311e-09, 1.37425993e-09, 1.47202228e-09,\n",
              "        1.77334036e-09, 7.26439486e-09, 3.83233356e-09, 6.24129803e-10,\n",
              "        2.22043095e-09, 7.36333716e-10, 3.60595109e-09, 1.05611031e-09,\n",
              "        1.24160975e-08, 5.43744960e-09, 1.60679914e-08, 6.15780760e-09,\n",
              "        1.00050652e-08, 4.59269067e-09, 4.30923608e-09, 5.83571369e-09,\n",
              "        1.06164055e-08, 6.70625289e-09, 3.98648670e-09, 5.60661917e-09,\n",
              "        6.09611988e-08, 4.39343983e-09, 3.26961347e-09, 2.67859984e-10,\n",
              "        1.00759427e-08, 3.16197823e-09, 2.44841303e-08, 1.00997823e-08,\n",
              "        1.90872917e-08, 1.43129899e-08, 1.34053589e-05, 8.60028138e-09,\n",
              "        3.36661650e-08, 2.73630762e-09, 1.11034684e-08, 5.93928391e-08,\n",
              "        1.27180542e-08, 5.91863483e-08, 1.13407497e-08, 1.21042092e-07,\n",
              "        3.18332738e-09, 1.06834330e-09, 4.42237846e-09, 2.04719131e-10,\n",
              "        1.32085443e-09, 4.64656225e-09, 2.08419593e-09, 1.62720077e-08,\n",
              "        1.64797154e-08, 1.42949572e-08, 1.45754830e-08, 6.48363752e-10,\n",
              "        4.46935350e-10, 3.84231669e-09, 1.72519810e-09, 1.04253182e-07,\n",
              "        1.82312938e-08, 3.30393463e-10, 1.89064515e-08, 5.02256228e-08]],\n",
              "      dtype=float32)"
            ]
          },
          "execution_count": 46,
          "metadata": {},
          "output_type": "execute_result"
        }
      ],
      "source": [
        "p"
      ]
    },
    {
      "cell_type": "code",
      "execution_count": null,
      "metadata": {
        "colab": {
          "base_uri": "https://localhost:8080/"
        },
        "id": "K6AjvPDGW4Ip",
        "outputId": "3ba00535-57e4-4f30-8e29-7a44160b40c6"
      },
      "outputs": [
        {
          "data": {
            "text/plain": [
              "(1, 1000)"
            ]
          },
          "execution_count": 47,
          "metadata": {},
          "output_type": "execute_result"
        }
      ],
      "source": [
        "p.shape"
      ]
    },
    {
      "cell_type": "code",
      "execution_count": null,
      "metadata": {
        "colab": {
          "base_uri": "https://localhost:8080/"
        },
        "id": "EfxPZ5QjW4LH",
        "outputId": "2e1c56ee-29de-4fad-b8bd-c34cdcc87613"
      },
      "outputs": [
        {
          "data": {
            "text/plain": [
              "np.int64(277)"
            ]
          },
          "execution_count": 57,
          "metadata": {},
          "output_type": "execute_result"
        }
      ],
      "source": [
        "p.argmax()"
      ]
    },
    {
      "cell_type": "code",
      "execution_count": null,
      "metadata": {
        "colab": {
          "base_uri": "https://localhost:8080/"
        },
        "id": "agyJ9RqwW4Nr",
        "outputId": "451bcd83-b957-4b25-d9bf-59524f29308d"
      },
      "outputs": [
        {
          "name": "stdout",
          "output_type": "stream",
          "text": [
            "Downloading data from https://storage.googleapis.com/download.tensorflow.org/data/imagenet_class_index.json\n",
            "\u001b[1m35363/35363\u001b[0m \u001b[32m━━━━━━━━━━━━━━━━━━━━\u001b[0m\u001b[37m\u001b[0m \u001b[1m0s\u001b[0m 0us/step\n"
          ]
        }
      ],
      "source": [
        "res = imagenet_utils.decode_predictions(p)[0][0]"
      ]
    },
    {
      "cell_type": "code",
      "execution_count": null,
      "metadata": {
        "colab": {
          "base_uri": "https://localhost:8080/"
        },
        "id": "phVZAnLPW4QP",
        "outputId": "fa13c467-0209-4a0a-8931-79ac4380d852"
      },
      "outputs": [
        {
          "data": {
            "text/plain": [
              "('n02119022', 'red_fox', np.float32(0.93392617))"
            ]
          },
          "execution_count": 26,
          "metadata": {},
          "output_type": "execute_result"
        }
      ],
      "source": [
        "res"
      ]
    },
    {
      "cell_type": "code",
      "execution_count": null,
      "metadata": {
        "colab": {
          "base_uri": "https://localhost:8080/"
        },
        "id": "0ep03YleW4Sw",
        "outputId": "a22772f9-b88d-40fe-d761-a4655065ed88"
      },
      "outputs": [
        {
          "name": "stdout",
          "output_type": "stream",
          "text": [
            "Result: red_fox (93.39%)\n"
          ]
        }
      ],
      "source": [
        "print(f\"Result: {res[1]} ({res[2]*100:.2f}%)\")"
      ]
    },
    {
      "cell_type": "code",
      "execution_count": null,
      "metadata": {},
      "outputs": [],
      "source": []
    },
    {
      "cell_type": "code",
      "execution_count": null,
      "metadata": {
        "id": "K34QgdX-W4YA"
      },
      "outputs": [],
      "source": []
    },
    {
      "cell_type": "code",
      "execution_count": null,
      "metadata": {
        "id": "qqa9eGDdW4af"
      },
      "outputs": [],
      "source": []
    },
    {
      "cell_type": "code",
      "execution_count": null,
      "metadata": {
        "id": "4Rioc0NLW4dH"
      },
      "outputs": [],
      "source": []
    },
    {
      "cell_type": "code",
      "execution_count": null,
      "metadata": {
        "id": "L2AbV_8mW4fv"
      },
      "outputs": [],
      "source": []
    },
    {
      "cell_type": "code",
      "execution_count": null,
      "metadata": {
        "id": "zs99un7xW4if"
      },
      "outputs": [],
      "source": []
    },
    {
      "cell_type": "code",
      "execution_count": null,
      "metadata": {
        "id": "bUZzvyYbW4kS"
      },
      "outputs": [],
      "source": []
    }
  ],
  "metadata": {
    "colab": {
      "provenance": []
    },
    "kernelspec": {
      "display_name": "Python 3",
      "name": "python3"
    },
    "language_info": {
      "name": "python"
    }
  },
  "nbformat": 4,
  "nbformat_minor": 0
}
